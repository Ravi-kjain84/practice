{
  "nbformat": 4,
  "nbformat_minor": 0,
  "metadata": {
    "colab": {
      "name": "02_rnn_scratch.ipynb",
      "provenance": [],
      "collapsed_sections": [],
      "authorship_tag": "ABX9TyOn615m8zsH6YMe24SR22jZ",
      "include_colab_link": true
    },
    "kernelspec": {
      "name": "python3",
      "display_name": "Python 3"
    },
    "language_info": {
      "name": "python"
    }
  },
  "cells": [
    {
      "cell_type": "markdown",
      "metadata": {
        "id": "view-in-github",
        "colab_type": "text"
      },
      "source": [
        "<a href=\"https://colab.research.google.com/github/Ravi-kjain84/practice/blob/main/20%20Mar/02_rnn_scratch.ipynb\" target=\"_parent\"><img src=\"https://colab.research.google.com/assets/colab-badge.svg\" alt=\"Open In Colab\"/></a>"
      ]
    },
    {
      "cell_type": "code",
      "metadata": {
        "id": "hYcqx462b_sv"
      },
      "source": [
        "import torch\n",
        "import torch.nn as nn\n",
        "import torch.nn.functional as F\n",
        "import os\n",
        "import numpy as np"
      ],
      "execution_count": 1,
      "outputs": []
    },
    {
      "cell_type": "code",
      "metadata": {
        "id": "ZReFaVpigKNA"
      },
      "source": [
        "class SingleRNN(nn.Module):\n",
        "  def __init__(self, n_inputs, n_neurons):\n",
        "    super(SingleRNN, self).__init__()\n",
        "\n",
        "    self.Wx = torch.randn(n_inputs, n_neurons)\n",
        "    self.Wy = torch.randn(n_neurons, n_neurons)\n",
        "\n",
        "    self.b = torch.zeros(1, n_neurons)\n",
        "  \n",
        "  def forward(self, X0, X1):\n",
        "    self.Y0 = torch.tanh(torch.mm(X0, self.Wx) + self.b)\n",
        "    self.Y1 = torch.tanh(torch.mm(self.Y0, self.Wy)\n",
        "                          + torch.mm(X1, self.Wx)\n",
        "                          + self.b\n",
        "    )\n",
        "    return self.Y0, self.Y1"
      ],
      "execution_count": 11,
      "outputs": []
    },
    {
      "cell_type": "code",
      "metadata": {
        "id": "2_3nTVuIcVMi"
      },
      "source": [
        "N_INPUT = 4\n",
        "N_NEURONS = 1\n",
        "X0_batch = torch.tensor([\n",
        "                         [0,1,2,0],\n",
        "                         [2,4,5,0],\n",
        "                         [6,7,8,0],\n",
        "                         [9,0,1,0]\n",
        "], dtype = torch.float)\n",
        "\n",
        "X1_batch = torch.tensor([\n",
        "                         [9,8,7,0],\n",
        "                         [6,5,4,0],\n",
        "                         [6,7,8,0],\n",
        "                         [9,0,1,0]\n",
        "], dtype = torch.float)\n",
        "\n",
        "model = SingleRNN(N_INPUT, N_NEURONS)\n",
        "\n",
        "Y0_val, Y1_val = model(X0_batch, X1_batch)"
      ],
      "execution_count": 12,
      "outputs": []
    },
    {
      "cell_type": "code",
      "metadata": {
        "colab": {
          "base_uri": "https://localhost:8080/"
        },
        "id": "PW6wq_6BmSyA",
        "outputId": "0b4df1f8-1a98-4e17-8413-b71a6beac7ec"
      },
      "source": [
        "print(Y0_val)\n",
        "print(Y1_val)"
      ],
      "execution_count": 13,
      "outputs": [
        {
          "output_type": "stream",
          "text": [
            "tensor([[ 0.9998],\n",
            "        [ 1.0000],\n",
            "        [ 1.0000],\n",
            "        [-0.9971]])\n",
            "tensor([[ 1.0000],\n",
            "        [ 1.0000],\n",
            "        [ 1.0000],\n",
            "        [-0.9927]])\n"
          ],
          "name": "stdout"
        }
      ]
    },
    {
      "cell_type": "code",
      "metadata": {
        "id": "g2ar3E-Nmz-D"
      },
      "source": [
        ""
      ],
      "execution_count": null,
      "outputs": []
    }
  ]
}